{
 "cells": [
  {
   "cell_type": "code",
   "execution_count": 95,
   "metadata": {},
   "outputs": [],
   "source": [
    "import os"
   ]
  },
  {
   "cell_type": "code",
   "execution_count": 110,
   "metadata": {},
   "outputs": [
    {
     "data": {
      "text/plain": [
       "'c:\\\\Users\\\\pouru\\\\OneDrive\\\\Desktop\\\\360_digit_mg_solution\\\\360_digit_mg_project\\\\Fair-and-Efficient-Bonus-Allocation-System'"
      ]
     },
     "execution_count": 110,
     "metadata": {},
     "output_type": "execute_result"
    }
   ],
   "source": [
    "%pwd"
   ]
  },
  {
   "cell_type": "code",
   "execution_count": 10,
   "metadata": {},
   "outputs": [],
   "source": [
    "os.chdir(\"../\")"
   ]
  },
  {
   "cell_type": "code",
   "execution_count": 96,
   "metadata": {},
   "outputs": [
    {
     "data": {
      "text/plain": [
       "'c:\\\\Users\\\\pouru\\\\OneDrive\\\\Desktop\\\\360_digit_mg_solution\\\\360_digit_mg_project\\\\Fair-and-Efficient-Bonus-Allocation-System'"
      ]
     },
     "execution_count": 96,
     "metadata": {},
     "output_type": "execute_result"
    }
   ],
   "source": [
    "%pwd"
   ]
  },
  {
   "cell_type": "code",
   "execution_count": 119,
   "metadata": {},
   "outputs": [],
   "source": [
    "from dataclasses import dataclass\n",
    "from pathlib import Path\n",
    "\n",
    "@dataclass(frozen=True)\n",
    "class ModelTrainerConfig:\n",
    "    root_dir: Path\n",
    "    train_data_path: Path\n",
    "    test_data_path: Path\n",
    "    model_name: str\n"
   ]
  },
  {
   "cell_type": "code",
   "execution_count": 120,
   "metadata": {},
   "outputs": [],
   "source": [
    "from src.Bonus_Allocation_System.constants import *\n",
    "from src.Bonus_Allocation_System.utils.common import read_yaml,create_directories"
   ]
  },
  {
   "cell_type": "code",
   "execution_count": 121,
   "metadata": {},
   "outputs": [],
   "source": [
    "class ConfigurationManager:\n",
    "    def __init__(\n",
    "        self,\n",
    "        config_filepath = CONFIG_FILE_PATH,\n",
    "        params_filepath = PARAMS_FILE_PATH,\n",
    "        schema_filepath = SCHEMA_FILE_PATH):\n",
    "\n",
    "        self.config = read_yaml(config_filepath)\n",
    "        self.params = read_yaml(params_filepath)\n",
    "        self.schema = read_yaml(schema_filepath)\n",
    "\n",
    "        create_directories([self.config.artifacts_root])\n",
    "\n",
    "    def get_model_trainer_config(self) -> ModelTrainerConfig:\n",
    "        config = self.config.model_trainer\n",
    "        params = self.params.KNeighborsClassifier\n",
    "        schema =  self.schema.TARGET_COLUMNS\n",
    "\n",
    "        create_directories([config.root_dir])\n",
    "\n",
    "        model_trainer_config = ModelTrainerConfig(\n",
    "            root_dir=config.root_dir,\n",
    "            train_data_path = config.train_data_path,\n",
    "            test_data_path = config.test_data_path,\n",
    "            model_name = config.model_name,\n",
    "\n",
    "            \n",
    "        )\n",
    "\n",
    "        return model_trainer_config"
   ]
  },
  {
   "cell_type": "code",
   "execution_count": 122,
   "metadata": {},
   "outputs": [],
   "source": [
    "import pandas as pd\n",
    "import os\n",
    "from src.Bonus_Allocation_System.logging import logger\n",
    "import joblib\n",
    "import numpy as np \n",
    "import pandas as pd\n",
    "import matplotlib.pyplot as plt\n",
    "from sklearn.ensemble import RandomForestClassifier, AdaBoostClassifier, GradientBoostingClassifier\n",
    "from sklearn.linear_model import LogisticRegression\n",
    "from sklearn.neighbors import KNeighborsClassifier\n",
    "from sklearn.tree import DecisionTreeClassifier\n",
    "from sklearn.svm import SVC\n",
    "from sklearn.metrics import accuracy_score, classification_report,ConfusionMatrixDisplay, \\\n",
    "                            precision_score, recall_score, f1_score, roc_auc_score,roc_curve \n",
    "from xgboost import XGBClassifier\n",
    "from catboost import CatBoostClassifier\n",
    "from sklearn.model_selection import train_test_split"
   ]
  },
  {
   "cell_type": "code",
   "execution_count": 123,
   "metadata": {},
   "outputs": [],
   "source": [
    "class ModelTrainer:\n",
    "    def __init__(self, config: ModelTrainerConfig):\n",
    "        self.config = config\n",
    "\n",
    "\n",
    "        \n",
    "    def train(self):\n",
    "        train_data = pd.read_csv(self.config.train_data_path)\n",
    "        test_data = pd.read_csv(self.config.test_data_path)\n",
    "        train_data.head()\n",
    "        models = {\n",
    "            \"Random Forest\": RandomForestClassifier(),\n",
    "            \"Decision Tree\": DecisionTreeClassifier(),\n",
    "            \"Gradient Boosting\": GradientBoostingClassifier(),\n",
    "            \"Logistic Regression\": LogisticRegression(),\n",
    "            \"K-Neighbors Classifier\": KNeighborsClassifier(),\n",
    "            \"XGBClassifier\": XGBClassifier(), \n",
    "            \"CatBoosting Classifier\": CatBoostClassifier(verbose=False),\n",
    "            \"Support Vector Classifier\": SVC(),\n",
    "            \"AdaBoost Classifier\": AdaBoostClassifier()\n",
    "            }\n",
    "        def evaluate_clf(true, predicted):\n",
    "            acc = accuracy_score(true, predicted) # Calculate Accuracy\n",
    "            f1 = f1_score(true, predicted) # Calculate F1-score\n",
    "            precision = precision_score(true, predicted) # Calculate Precision\n",
    "            recall = recall_score(true, predicted)  # Calculate Recall\n",
    "            roc_auc = roc_auc_score(true, predicted) #Calculate Roc\n",
    "            return acc, f1 , precision, recall, roc_auc\n",
    "\n",
    "        X_train = train_data[['Winning_percentage', 'Average_Bet_Amount',\n",
    "       'Number_of_Bonuses_Received', 'Amount_of_Bonuses_Received',\n",
    "       'Revenue_from_Bonuses']]\n",
    "        X_test = test_data[['Winning_percentage', 'Average_Bet_Amount',\n",
    "       'Number_of_Bonuses_Received', 'Amount_of_Bonuses_Received',\n",
    "       'Revenue_from_Bonuses']]\n",
    "        y_train = train_data[['Should_Receive_Bonus']]\n",
    "        y_test = test_data[['Should_Receive_Bonus']]\n",
    "        models_list = []\n",
    "        accuracy_list = []\n",
    "        auc= []\n",
    "        for i in range(len(list(models))):\n",
    "            model = list(models.values())[i]\n",
    "            model.fit(X_train, y_train) # Train model\n",
    "\n",
    "            # Make predictions\n",
    "            y_train_pred = model.predict(X_train)\n",
    "            y_test_pred = model.predict(X_test)\n",
    "\n",
    "            # Training set performance\n",
    "            model_train_accuracy, model_train_f1,model_train_precision,\\\n",
    "            model_train_recall,model_train_rocauc_score=evaluate_clf(y_train ,y_train_pred)\n",
    "\n",
    "\n",
    "            # Test set performance\n",
    "            model_test_accuracy,model_test_f1,model_test_precision,\\\n",
    "            model_test_recall,model_test_rocauc_score=evaluate_clf(y_test, y_test_pred)\n",
    "\n",
    "            print(list(models.keys())[i])\n",
    "            models_list.append(list(models.keys())[i])\n",
    "\n",
    "            print('Model performance for Training set')\n",
    "            print(\"- Accuracy: {:.4f}\".format(model_train_accuracy))\n",
    "            print('- F1 score: {:.4f}'.format(model_train_f1)) \n",
    "            print('- Precision: {:.4f}'.format(model_train_precision))\n",
    "            print('- Recall: {:.4f}'.format(model_train_recall))\n",
    "            print('- Roc Auc Score: {:.4f}'.format(model_train_rocauc_score))\n",
    "\n",
    "            print('----------------------------------')\n",
    "\n",
    "            print('Model performance for Test set')\n",
    "            print('- Accuracy: {:.4f}'.format(model_test_accuracy))\n",
    "            accuracy_list.append(model_test_accuracy)\n",
    "            print('- F1 score: {:.4f}'.format(model_test_f1))\n",
    "            print('- Precision: {:.4f}'.format(model_test_precision))\n",
    "            print('- Recall: {:.4f}'.format(model_test_recall))\n",
    "            print('- Roc Auc Score: {:.4f}'.format(model_test_rocauc_score))\n",
    "            auc.append(model_test_rocauc_score)\n",
    "            print('='*35)\n",
    "            print('\\n')\n",
    "        \n",
    "        report=pd.DataFrame(list(zip(models_list, accuracy_list)), columns=['Model Name', 'Accuracy']).sort_values(by=['Accuracy'], ascending=False)\n",
    "        logger.info(\"Final accurary table\")\n",
    "        print(report.to_string(index=False))\n",
    "        xbg = XGBClassifier()\n",
    "        joblib.dump(xbg, os.path.join(self.config.root_dir, self.config.model_name))\n",
    "        return report\n",
    "\n",
    "    \n",
    "\n",
    "\n",
    "     #   joblib.dump(lr, os.path.join(self.config.root_dir, self.config.model_name))"
   ]
  },
  {
   "cell_type": "code",
   "execution_count": 124,
   "metadata": {},
   "outputs": [
    {
     "data": {
      "text/plain": [
       "'c:\\\\Users\\\\pouru\\\\OneDrive\\\\Desktop\\\\360_digit_mg_solution\\\\360_digit_mg_project\\\\Fair-and-Efficient-Bonus-Allocation-System'"
      ]
     },
     "execution_count": 124,
     "metadata": {},
     "output_type": "execute_result"
    }
   ],
   "source": [
    "import os \n",
    "%pwd"
   ]
  },
  {
   "cell_type": "code",
   "execution_count": 125,
   "metadata": {},
   "outputs": [
    {
     "name": "stdout",
     "output_type": "stream",
     "text": [
      "[2024-08-17 11:50:06,439: INFO: common: yaml file: config\\config.yaml loaded successfully]\n",
      "[2024-08-17 11:50:06,442: INFO: common: yaml file: params.yaml loaded successfully]\n",
      "[2024-08-17 11:50:06,449: INFO: common: yaml file: schema.yaml loaded successfully]\n",
      "[2024-08-17 11:50:06,452: INFO: common: created directory at: artifacts]\n",
      "[2024-08-17 11:50:06,455: INFO: common: created directory at: artifacts/model_trainer]\n"
     ]
    },
    {
     "name": "stderr",
     "output_type": "stream",
     "text": [
      "c:\\Users\\pouru\\anaconda3\\envs\\bonus_allocation_system\\lib\\site-packages\\sklearn\\base.py:1152: DataConversionWarning: A column-vector y was passed when a 1d array was expected. Please change the shape of y to (n_samples,), for example using ravel().\n",
      "  return fit_method(estimator, *args, **kwargs)\n"
     ]
    },
    {
     "name": "stdout",
     "output_type": "stream",
     "text": [
      "Random Forest\n",
      "Model performance for Training set\n",
      "- Accuracy: 0.9995\n",
      "- F1 score: 0.9995\n",
      "- Precision: 1.0000\n",
      "- Recall: 0.9990\n",
      "- Roc Auc Score: 0.9995\n",
      "----------------------------------\n",
      "Model performance for Test set\n",
      "- Accuracy: 0.9104\n",
      "- F1 score: 0.9179\n",
      "- Precision: 0.9260\n",
      "- Recall: 0.9099\n",
      "- Roc Auc Score: 0.9105\n",
      "===================================\n",
      "\n",
      "\n",
      "Decision Tree\n",
      "Model performance for Training set\n",
      "- Accuracy: 0.9995\n",
      "- F1 score: 0.9995\n",
      "- Precision: 1.0000\n",
      "- Recall: 0.9990\n",
      "- Roc Auc Score: 0.9995\n",
      "----------------------------------\n",
      "Model performance for Test set\n",
      "- Accuracy: 0.8928\n",
      "- F1 score: 0.9023\n",
      "- Precision: 0.9050\n",
      "- Recall: 0.8997\n",
      "- Roc Auc Score: 0.8920\n",
      "===================================\n",
      "\n",
      "\n"
     ]
    },
    {
     "name": "stderr",
     "output_type": "stream",
     "text": [
      "c:\\Users\\pouru\\anaconda3\\envs\\bonus_allocation_system\\lib\\site-packages\\sklearn\\ensemble\\_gb.py:424: DataConversionWarning: A column-vector y was passed when a 1d array was expected. Please change the shape of y to (n_samples, ), for example using ravel().\n",
      "  y = column_or_1d(y, warn=True)\n"
     ]
    },
    {
     "name": "stdout",
     "output_type": "stream",
     "text": [
      "Gradient Boosting\n",
      "Model performance for Training set\n",
      "- Accuracy: 0.9141\n",
      "- F1 score: 0.9182\n",
      "- Precision: 0.9201\n",
      "- Recall: 0.9164\n",
      "- Roc Auc Score: 0.9140\n",
      "----------------------------------\n",
      "Model performance for Test set\n",
      "- Accuracy: 0.9072\n",
      "- F1 score: 0.9151\n",
      "- Precision: 0.9218\n",
      "- Recall: 0.9084\n",
      "- Roc Auc Score: 0.9071\n",
      "===================================\n",
      "\n",
      "\n"
     ]
    },
    {
     "name": "stderr",
     "output_type": "stream",
     "text": [
      "c:\\Users\\pouru\\anaconda3\\envs\\bonus_allocation_system\\lib\\site-packages\\sklearn\\utils\\validation.py:1183: DataConversionWarning: A column-vector y was passed when a 1d array was expected. Please change the shape of y to (n_samples, ), for example using ravel().\n",
      "  y = column_or_1d(y, warn=True)\n"
     ]
    },
    {
     "name": "stdout",
     "output_type": "stream",
     "text": [
      "Logistic Regression\n",
      "Model performance for Training set\n",
      "- Accuracy: 0.8851\n",
      "- F1 score: 0.8891\n",
      "- Precision: 0.9028\n",
      "- Recall: 0.8758\n",
      "- Roc Auc Score: 0.8856\n",
      "----------------------------------\n",
      "Model performance for Test set\n",
      "- Accuracy: 0.8928\n",
      "- F1 score: 0.9007\n",
      "- Precision: 0.9184\n",
      "- Recall: 0.8837\n",
      "- Roc Auc Score: 0.8938\n",
      "===================================\n",
      "\n",
      "\n"
     ]
    },
    {
     "name": "stderr",
     "output_type": "stream",
     "text": [
      "c:\\Users\\pouru\\anaconda3\\envs\\bonus_allocation_system\\lib\\site-packages\\sklearn\\neighbors\\_classification.py:233: DataConversionWarning: A column-vector y was passed when a 1d array was expected. Please change the shape of y to (n_samples,), for example using ravel().\n",
      "  return self._fit(X, y)\n"
     ]
    },
    {
     "name": "stdout",
     "output_type": "stream",
     "text": [
      "K-Neighbors Classifier\n",
      "Model performance for Training set\n",
      "- Accuracy: 0.9229\n",
      "- F1 score: 0.9263\n",
      "- Precision: 0.9318\n",
      "- Recall: 0.9209\n",
      "- Roc Auc Score: 0.9230\n",
      "----------------------------------\n",
      "Model performance for Test set\n",
      "- Accuracy: 0.8952\n",
      "- F1 score: 0.9037\n",
      "- Precision: 0.9138\n",
      "- Recall: 0.8939\n",
      "- Roc Auc Score: 0.8953\n",
      "===================================\n",
      "\n",
      "\n",
      "XGBClassifier\n",
      "Model performance for Training set\n",
      "- Accuracy: 0.9864\n",
      "- F1 score: 0.9870\n",
      "- Precision: 0.9928\n",
      "- Recall: 0.9812\n",
      "- Roc Auc Score: 0.9867\n",
      "----------------------------------\n",
      "Model performance for Test set\n",
      "- Accuracy: 0.9056\n",
      "- F1 score: 0.9131\n",
      "- Precision: 0.9254\n",
      "- Recall: 0.9012\n",
      "- Roc Auc Score: 0.9061\n",
      "===================================\n",
      "\n",
      "\n",
      "CatBoosting Classifier\n",
      "Model performance for Training set\n",
      "- Accuracy: 0.9456\n",
      "- F1 score: 0.9479\n",
      "- Precision: 0.9552\n",
      "- Recall: 0.9407\n",
      "- Roc Auc Score: 0.9459\n",
      "----------------------------------\n",
      "Model performance for Test set\n",
      "- Accuracy: 0.9112\n",
      "- F1 score: 0.9186\n",
      "- Precision: 0.9274\n",
      "- Recall: 0.9099\n",
      "- Roc Auc Score: 0.9113\n",
      "===================================\n",
      "\n",
      "\n"
     ]
    },
    {
     "name": "stderr",
     "output_type": "stream",
     "text": [
      "c:\\Users\\pouru\\anaconda3\\envs\\bonus_allocation_system\\lib\\site-packages\\sklearn\\utils\\validation.py:1183: DataConversionWarning: A column-vector y was passed when a 1d array was expected. Please change the shape of y to (n_samples, ), for example using ravel().\n",
      "  y = column_or_1d(y, warn=True)\n"
     ]
    },
    {
     "name": "stdout",
     "output_type": "stream",
     "text": [
      "Support Vector Classifier\n",
      "Model performance for Training set\n",
      "- Accuracy: 0.8155\n",
      "- F1 score: 0.8218\n",
      "- Precision: 0.8352\n",
      "- Recall: 0.8089\n",
      "- Roc Auc Score: 0.8158\n",
      "----------------------------------\n",
      "Model performance for Test set\n",
      "- Accuracy: 0.8192\n",
      "- F1 score: 0.8326\n",
      "- Precision: 0.8489\n",
      "- Recall: 0.8169\n",
      "- Roc Auc Score: 0.8195\n",
      "===================================\n",
      "\n",
      "\n"
     ]
    },
    {
     "name": "stderr",
     "output_type": "stream",
     "text": [
      "c:\\Users\\pouru\\anaconda3\\envs\\bonus_allocation_system\\lib\\site-packages\\sklearn\\utils\\validation.py:1183: DataConversionWarning: A column-vector y was passed when a 1d array was expected. Please change the shape of y to (n_samples, ), for example using ravel().\n",
      "  y = column_or_1d(y, warn=True)\n"
     ]
    },
    {
     "name": "stdout",
     "output_type": "stream",
     "text": [
      "AdaBoost Classifier\n",
      "Model performance for Training set\n",
      "- Accuracy: 0.8936\n",
      "- F1 score: 0.8970\n",
      "- Precision: 0.9138\n",
      "- Recall: 0.8809\n",
      "- Roc Auc Score: 0.8943\n",
      "----------------------------------\n",
      "Model performance for Test set\n",
      "- Accuracy: 0.9008\n",
      "- F1 score: 0.9076\n",
      "- Precision: 0.9312\n",
      "- Recall: 0.8852\n",
      "- Roc Auc Score: 0.9026\n",
      "===================================\n",
      "\n",
      "\n",
      "[2024-08-17 11:50:16,944: INFO: 2266060265: Final accurary table]\n",
      "               Model Name  Accuracy\n",
      "   CatBoosting Classifier    0.9112\n",
      "            Random Forest    0.9104\n",
      "        Gradient Boosting    0.9072\n",
      "            XGBClassifier    0.9056\n",
      "      AdaBoost Classifier    0.9008\n",
      "   K-Neighbors Classifier    0.8952\n",
      "            Decision Tree    0.8928\n",
      "      Logistic Regression    0.8928\n",
      "Support Vector Classifier    0.8192\n"
     ]
    }
   ],
   "source": [
    "try:\n",
    "    config = ConfigurationManager()\n",
    "    model_trainer_config = config.get_model_trainer_config()\n",
    "    model_trainer_config = ModelTrainer(config=model_trainer_config)\n",
    "    model_trainer_config.train()\n",
    "except Exception as e:\n",
    "    raise e"
   ]
  },
  {
   "cell_type": "code",
   "execution_count": null,
   "metadata": {},
   "outputs": [],
   "source": []
  },
  {
   "cell_type": "code",
   "execution_count": null,
   "metadata": {},
   "outputs": [],
   "source": []
  },
  {
   "cell_type": "code",
   "execution_count": null,
   "metadata": {},
   "outputs": [],
   "source": []
  }
 ],
 "metadata": {
  "kernelspec": {
   "display_name": "bonus_allocation_system",
   "language": "python",
   "name": "python3"
  },
  "language_info": {
   "codemirror_mode": {
    "name": "ipython",
    "version": 3
   },
   "file_extension": ".py",
   "mimetype": "text/x-python",
   "name": "python",
   "nbconvert_exporter": "python",
   "pygments_lexer": "ipython3",
   "version": "3.8.19"
  }
 },
 "nbformat": 4,
 "nbformat_minor": 2
}
