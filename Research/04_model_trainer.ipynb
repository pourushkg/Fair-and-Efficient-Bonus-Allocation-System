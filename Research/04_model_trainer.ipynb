{
 "cells": [
  {
   "cell_type": "code",
   "execution_count": 95,
   "metadata": {},
   "outputs": [],
   "source": [
    "import os"
   ]
  },
  {
   "cell_type": "code",
   "execution_count": 172,
   "metadata": {},
   "outputs": [
    {
     "data": {
      "text/plain": [
       "'c:\\\\Users\\\\pouru\\\\OneDrive\\\\Desktop\\\\360_digit_mg_solution\\\\360_digit_mg_project\\\\Fair-and-Efficient-Bonus-Allocation-System'"
      ]
     },
     "execution_count": 172,
     "metadata": {},
     "output_type": "execute_result"
    }
   ],
   "source": [
    "%pwd"
   ]
  },
  {
   "cell_type": "code",
   "execution_count": 10,
   "metadata": {},
   "outputs": [],
   "source": [
    "os.chdir(\"../\")"
   ]
  },
  {
   "cell_type": "code",
   "execution_count": 183,
   "metadata": {},
   "outputs": [
    {
     "data": {
      "text/plain": [
       "'c:\\\\Users\\\\pouru\\\\OneDrive\\\\Desktop\\\\360_digit_mg_solution\\\\360_digit_mg_project\\\\Fair-and-Efficient-Bonus-Allocation-System'"
      ]
     },
     "execution_count": 183,
     "metadata": {},
     "output_type": "execute_result"
    }
   ],
   "source": [
    "%pwd"
   ]
  },
  {
   "cell_type": "code",
   "execution_count": 173,
   "metadata": {},
   "outputs": [],
   "source": [
    "from dataclasses import dataclass\n",
    "from pathlib import Path\n",
    "\n",
    "@dataclass(frozen=True)\n",
    "class ModelTrainerConfig:\n",
    "    root_dir: Path\n",
    "    train_data_path: Path\n",
    "    test_data_path: Path\n",
    "    model_name: str\n"
   ]
  },
  {
   "cell_type": "code",
   "execution_count": 184,
   "metadata": {},
   "outputs": [],
   "source": [
    "from src.Bonus_Allocation_System.constants import *\n",
    "\n",
    "from src.Bonus_Allocation_System.utils.common import read_yaml,create_directories"
   ]
  },
  {
   "cell_type": "code",
   "execution_count": 175,
   "metadata": {},
   "outputs": [],
   "source": [
    "class ConfigurationManager:\n",
    "    def __init__(\n",
    "        self,\n",
    "        config_filepath = CONFIG_FILE_PATH,\n",
    "        params_filepath = PARAMS_FILE_PATH,\n",
    "        schema_filepath = SCHEMA_FILE_PATH):\n",
    "\n",
    "        self.config = read_yaml(config_filepath)\n",
    "        self.params = read_yaml(params_filepath)\n",
    "        self.schema = read_yaml(schema_filepath)\n",
    "\n",
    "        create_directories([self.config.artifacts_root])\n",
    "\n",
    "    def get_model_trainer_config(self) -> ModelTrainerConfig:\n",
    "        config = self.config.model_trainer\n",
    "        params = self.params.KNeighborsClassifier\n",
    "        schema =  self.schema.TARGET_COLUMNS\n",
    "\n",
    "        create_directories([config.root_dir])\n",
    "\n",
    "        model_trainer_config = ModelTrainerConfig(\n",
    "            root_dir=config.root_dir,\n",
    "            train_data_path = config.train_data_path,\n",
    "            test_data_path = config.test_data_path,\n",
    "            model_name = config.model_name,\n",
    "\n",
    "            \n",
    "        )\n",
    "\n",
    "        return model_trainer_config"
   ]
  },
  {
   "cell_type": "code",
   "execution_count": 176,
   "metadata": {},
   "outputs": [],
   "source": [
    "import pandas as pd\n",
    "import os\n",
    "from src.Bonus_Allocation_System.logging import logger\n",
    "import joblib\n",
    "import numpy as np \n",
    "import pandas as pd\n",
    "import matplotlib.pyplot as plt\n",
    "from sklearn.ensemble import RandomForestClassifier, AdaBoostClassifier, GradientBoostingClassifier\n",
    "from sklearn.linear_model import LogisticRegression\n",
    "from sklearn.neighbors import KNeighborsClassifier\n",
    "from sklearn.tree import DecisionTreeClassifier\n",
    "from sklearn.svm import SVC\n",
    "from sklearn.metrics import accuracy_score, classification_report,ConfusionMatrixDisplay, \\\n",
    "                            precision_score, recall_score, f1_score, roc_auc_score,roc_curve \n",
    "from xgboost import XGBClassifier\n",
    "from catboost import CatBoostClassifier\n",
    "from sklearn.model_selection import train_test_split"
   ]
  },
  {
   "cell_type": "code",
   "execution_count": 177,
   "metadata": {},
   "outputs": [],
   "source": [
    "class ModelTrainer:\n",
    "    def __init__(self, config: ModelTrainerConfig):\n",
    "        self.config = config\n",
    "\n",
    "\n",
    "        \n",
    "    def train(self):\n",
    "        train_data = pd.read_csv(self.config.train_data_path)\n",
    "        test_data = pd.read_csv(self.config.test_data_path)\n",
    "        train_data.head()\n",
    "        models = {\n",
    "            \"Random Forest\": RandomForestClassifier(),\n",
    "            \"Decision Tree\": DecisionTreeClassifier(),\n",
    "            \"Gradient Boosting\": GradientBoostingClassifier(),\n",
    "            \"Logistic Regression\": LogisticRegression(),\n",
    "            \"K-Neighbors Classifier\": KNeighborsClassifier(),\n",
    "            \"XGBClassifier\": XGBClassifier(), \n",
    "            \"CatBoosting Classifier\": CatBoostClassifier(verbose=False),\n",
    "            \"Support Vector Classifier\": SVC(),\n",
    "            \"AdaBoost Classifier\": AdaBoostClassifier()\n",
    "            }\n",
    "        def evaluate_clf(true, predicted):\n",
    "            acc = accuracy_score(true, predicted) # Calculate Accuracy\n",
    "            f1 = f1_score(true, predicted) # Calculate F1-score\n",
    "            precision = precision_score(true, predicted) # Calculate Precision\n",
    "            recall = recall_score(true, predicted)  # Calculate Recall\n",
    "            roc_auc = roc_auc_score(true, predicted) #Calculate Roc\n",
    "            return acc, f1 , precision, recall, roc_auc\n",
    "\n",
    "        X_train = train_data[['Winning_percentage', 'Average_Bet_Amount',\n",
    "       'Number_of_Bonuses_Received', 'Amount_of_Bonuses_Received',\n",
    "       'Revenue_from_Bonuses']]\n",
    "        X_test = test_data[['Winning_percentage', 'Average_Bet_Amount',\n",
    "       'Number_of_Bonuses_Received', 'Amount_of_Bonuses_Received',\n",
    "       'Revenue_from_Bonuses']]\n",
    "        y_train = train_data[['Should_Receive_Bonus']]\n",
    "        y_test = test_data[['Should_Receive_Bonus']]\n",
    "        models_list = []\n",
    "        train_accuracy_list = []\n",
    "        test_accurary_list = []\n",
    "        train_f1_score_list = []\n",
    "        test_f1_score_list = []\n",
    "        train_precision_list = []\n",
    "        test_precision_list = []\n",
    "        train_recall_list = []\n",
    "        test_recall_list = []\n",
    "        train_auc_roc_list = []\n",
    "        test_auc_roc_list = []\n",
    "\n",
    "    \n",
    "        for i in range(len(list(models))):\n",
    "            model = list(models.values())[i]\n",
    "            model.fit(X_train, y_train) # Train model\n",
    "\n",
    "            # Make predictions\n",
    "            y_train_pred = model.predict(X_train)\n",
    "            y_test_pred = model.predict(X_test)\n",
    "\n",
    "            # Training set performance\n",
    "            model_train_accuracy, model_train_f1,model_train_precision,\\\n",
    "            model_train_recall,model_train_rocauc_score=evaluate_clf(y_train ,y_train_pred)\n",
    "\n",
    "\n",
    "            # Test set performance\n",
    "            model_test_accuracy,model_test_f1,model_test_precision,\\\n",
    "            model_test_recall,model_test_rocauc_score=evaluate_clf(y_test, y_test_pred)\n",
    "\n",
    "            print(list(models.keys())[i])\n",
    "            models_list.append(list(models.keys())[i])\n",
    "\n",
    "            print('Model performance for Training set')\n",
    "            print(\"- Accuracy: {:.4f}\".format(model_train_accuracy))\n",
    "            train_accuracy_list.append(model_train_accuracy)\n",
    "            print('- F1 score: {:.4f}'.format(model_train_f1)) \n",
    "            train_f1_score_list.append(model_train_f1)\n",
    "            print('- Precision: {:.4f}'.format(model_train_precision))\n",
    "            train_precision_list.append(model_train_precision)\n",
    "            print('- Recall: {:.4f}'.format(model_train_recall))\n",
    "            train_recall_list.append(model_train_recall)\n",
    "            print('- Roc Auc Score: {:.4f}'.format(model_train_rocauc_score))\n",
    "            train_auc_roc_list.append(model_train_rocauc_score)\n",
    "\n",
    "            print('----------------------------------')\n",
    "\n",
    "            print('Model performance for Test set')\n",
    "            print('- Accuracy: {:.4f}'.format(model_test_accuracy))\n",
    "            test_accurary_list.append(model_test_accuracy)\n",
    "            print('- F1 score: {:.4f}'.format(model_test_f1))\n",
    "            test_f1_score_list.append(model_test_f1)\n",
    "            print('- Precision: {:.4f}'.format(model_test_precision))\n",
    "            test_precision_list.append(model_test_precision)\n",
    "            print('- Recall: {:.4f}'.format(model_test_recall))\n",
    "            test_recall_list.append(model_test_recall)\n",
    "            print('- Roc Auc Score: {:.4f}'.format(model_test_rocauc_score))\n",
    "            test_auc_roc_list.append(model_test_rocauc_score)\n",
    "\n",
    "            print('='*35)\n",
    "            print('\\n')\n",
    "        \n",
    "        report=pd.DataFrame(list(zip(models_list, train_accuracy_list,test_accurary_list,\\\n",
    "                                    train_f1_score_list,test_f1_score_list, train_precision_list,\\\n",
    "                                    test_precision_list, train_recall_list,test_recall_list, \\\n",
    "                                    train_auc_roc_list,test_auc_roc_list )), columns=['Model Name',\\\n",
    "                                    \"train_accuracy\",\"test_accuracy\", \"train_f1_score\",\"test_f1_score\",\\\n",
    "                                    \"train_precision\",\"test_precision\", \"train_recall\",\"test_recall\", \\\n",
    "                                    \"train_auc_roc\",\"test_auc_roc\" ]).sort_values(by=['test_accuracy'], ascending=False)\n",
    "        report[\"train_test_acc_diff\"] = report[\"train_accuracy\"]-report[\"test_accuracy\"]\n",
    "        logger.info(\"Final accurary table\")\n",
    "        print(report.to_string(index=False))\n",
    "        logger.info(\"From the table we get to known that XGBClassifier perform the best\")\n",
    "        xbg = XGBClassifier()\n",
    "        xbg.fit(X_train, y_train)\n",
    "        joblib.dump(xbg, os.path.join(self.config.root_dir, self.config.model_name))\n",
    "        return report\n",
    "\n",
    "    \n",
    "\n",
    "\n",
    "     #   joblib.dump(lr, os.path.join(self.config.root_dir, self.config.model_name))"
   ]
  },
  {
   "cell_type": "code",
   "execution_count": 124,
   "metadata": {},
   "outputs": [
    {
     "data": {
      "text/plain": [
       "'c:\\\\Users\\\\pouru\\\\OneDrive\\\\Desktop\\\\360_digit_mg_solution\\\\360_digit_mg_project\\\\Fair-and-Efficient-Bonus-Allocation-System'"
      ]
     },
     "execution_count": 124,
     "metadata": {},
     "output_type": "execute_result"
    }
   ],
   "source": [
    "import os \n",
    "%pwd"
   ]
  },
  {
   "cell_type": "code",
   "execution_count": 180,
   "metadata": {},
   "outputs": [
    {
     "name": "stdout",
     "output_type": "stream",
     "text": [
      "[2024-08-19 10:15:36,946: INFO: common: yaml file: config\\config.yaml loaded successfully]\n",
      "[2024-08-19 10:15:36,950: INFO: common: yaml file: params.yaml loaded successfully]\n",
      "[2024-08-19 10:15:36,958: INFO: common: yaml file: schema.yaml loaded successfully]\n",
      "[2024-08-19 10:15:36,961: INFO: common: created directory at: artifacts]\n",
      "[2024-08-19 10:15:36,963: INFO: common: created directory at: artifacts/model_trainer]\n"
     ]
    },
    {
     "name": "stderr",
     "output_type": "stream",
     "text": [
      "c:\\Users\\pouru\\anaconda3\\envs\\bonus_allocation_system\\lib\\site-packages\\sklearn\\base.py:1152: DataConversionWarning: A column-vector y was passed when a 1d array was expected. Please change the shape of y to (n_samples,), for example using ravel().\n",
      "  return fit_method(estimator, *args, **kwargs)\n"
     ]
    },
    {
     "name": "stdout",
     "output_type": "stream",
     "text": [
      "Random Forest\n",
      "Model performance for Training set\n",
      "- Accuracy: 0.9997\n",
      "- F1 score: 0.9997\n",
      "- Precision: 1.0000\n",
      "- Recall: 0.9995\n",
      "- Roc Auc Score: 0.9997\n",
      "----------------------------------\n",
      "Model performance for Test set\n",
      "- Accuracy: 0.9016\n",
      "- F1 score: 0.9063\n",
      "- Precision: 0.9268\n",
      "- Recall: 0.8867\n",
      "- Roc Auc Score: 0.9028\n",
      "===================================\n",
      "\n",
      "\n",
      "Decision Tree\n",
      "Model performance for Training set\n",
      "- Accuracy: 0.9997\n",
      "- F1 score: 0.9997\n",
      "- Precision: 1.0000\n",
      "- Recall: 0.9995\n",
      "- Roc Auc Score: 0.9997\n",
      "----------------------------------\n",
      "Model performance for Test set\n",
      "- Accuracy: 0.8704\n",
      "- F1 score: 0.8793\n",
      "- Precision: 0.8793\n",
      "- Recall: 0.8793\n",
      "- Roc Auc Score: 0.8697\n",
      "===================================\n",
      "\n",
      "\n"
     ]
    },
    {
     "name": "stderr",
     "output_type": "stream",
     "text": [
      "c:\\Users\\pouru\\anaconda3\\envs\\bonus_allocation_system\\lib\\site-packages\\sklearn\\ensemble\\_gb.py:424: DataConversionWarning: A column-vector y was passed when a 1d array was expected. Please change the shape of y to (n_samples, ), for example using ravel().\n",
      "  y = column_or_1d(y, warn=True)\n"
     ]
    },
    {
     "name": "stdout",
     "output_type": "stream",
     "text": [
      "Gradient Boosting\n",
      "Model performance for Training set\n",
      "- Accuracy: 0.9179\n",
      "- F1 score: 0.9221\n",
      "- Precision: 0.9282\n",
      "- Recall: 0.9161\n",
      "- Roc Auc Score: 0.9180\n",
      "----------------------------------\n",
      "Model performance for Test set\n",
      "- Accuracy: 0.8920\n",
      "- F1 score: 0.8983\n",
      "- Precision: 0.9085\n",
      "- Recall: 0.8882\n",
      "- Roc Auc Score: 0.8923\n",
      "===================================\n",
      "\n",
      "\n"
     ]
    },
    {
     "name": "stderr",
     "output_type": "stream",
     "text": [
      "c:\\Users\\pouru\\anaconda3\\envs\\bonus_allocation_system\\lib\\site-packages\\sklearn\\utils\\validation.py:1183: DataConversionWarning: A column-vector y was passed when a 1d array was expected. Please change the shape of y to (n_samples, ), for example using ravel().\n",
      "  y = column_or_1d(y, warn=True)\n"
     ]
    },
    {
     "name": "stdout",
     "output_type": "stream",
     "text": [
      "Logistic Regression\n",
      "Model performance for Training set\n",
      "- Accuracy: 0.8901\n",
      "- F1 score: 0.8953\n",
      "- Precision: 0.9054\n",
      "- Recall: 0.8854\n",
      "- Roc Auc Score: 0.8904\n",
      "----------------------------------\n",
      "Model performance for Test set\n",
      "- Accuracy: 0.8824\n",
      "- F1 score: 0.8887\n",
      "- Precision: 0.9031\n",
      "- Recall: 0.8748\n",
      "- Roc Auc Score: 0.8830\n",
      "===================================\n",
      "\n",
      "\n"
     ]
    },
    {
     "name": "stderr",
     "output_type": "stream",
     "text": [
      "c:\\Users\\pouru\\anaconda3\\envs\\bonus_allocation_system\\lib\\site-packages\\sklearn\\neighbors\\_classification.py:233: DataConversionWarning: A column-vector y was passed when a 1d array was expected. Please change the shape of y to (n_samples,), for example using ravel().\n",
      "  return self._fit(X, y)\n"
     ]
    },
    {
     "name": "stdout",
     "output_type": "stream",
     "text": [
      "K-Neighbors Classifier\n",
      "Model performance for Training set\n",
      "- Accuracy: 0.9235\n",
      "- F1 score: 0.9275\n",
      "- Precision: 0.9329\n",
      "- Recall: 0.9221\n",
      "- Roc Auc Score: 0.9236\n",
      "----------------------------------\n",
      "Model performance for Test set\n",
      "- Accuracy: 0.8832\n",
      "- F1 score: 0.8906\n",
      "- Precision: 0.8959\n",
      "- Recall: 0.8852\n",
      "- Roc Auc Score: 0.8830\n",
      "===================================\n",
      "\n",
      "\n",
      "XGBClassifier\n",
      "Model performance for Training set\n",
      "- Accuracy: 0.9843\n",
      "- F1 score: 0.9852\n",
      "- Precision: 0.9859\n",
      "- Recall: 0.9844\n",
      "- Roc Auc Score: 0.9843\n",
      "----------------------------------\n",
      "Model performance for Test set\n",
      "- Accuracy: 0.9024\n",
      "- F1 score: 0.9079\n",
      "- Precision: 0.9204\n",
      "- Recall: 0.8957\n",
      "- Roc Auc Score: 0.9029\n",
      "===================================\n",
      "\n",
      "\n",
      "CatBoosting Classifier\n",
      "Model performance for Training set\n",
      "- Accuracy: 0.9485\n",
      "- F1 score: 0.9511\n",
      "- Precision: 0.9587\n",
      "- Recall: 0.9437\n",
      "- Roc Auc Score: 0.9488\n",
      "----------------------------------\n",
      "Model performance for Test set\n",
      "- Accuracy: 0.8976\n",
      "- F1 score: 0.9030\n",
      "- Precision: 0.9183\n",
      "- Recall: 0.8882\n",
      "- Roc Auc Score: 0.8983\n",
      "===================================\n",
      "\n",
      "\n"
     ]
    },
    {
     "name": "stderr",
     "output_type": "stream",
     "text": [
      "c:\\Users\\pouru\\anaconda3\\envs\\bonus_allocation_system\\lib\\site-packages\\sklearn\\utils\\validation.py:1183: DataConversionWarning: A column-vector y was passed when a 1d array was expected. Please change the shape of y to (n_samples, ), for example using ravel().\n",
      "  y = column_or_1d(y, warn=True)\n"
     ]
    },
    {
     "name": "stdout",
     "output_type": "stream",
     "text": [
      "Support Vector Classifier\n",
      "Model performance for Training set\n",
      "- Accuracy: 0.8157\n",
      "- F1 score: 0.8244\n",
      "- Precision: 0.8339\n",
      "- Recall: 0.8151\n",
      "- Roc Auc Score: 0.8158\n",
      "----------------------------------\n",
      "Model performance for Test set\n",
      "- Accuracy: 0.8128\n",
      "- F1 score: 0.8249\n",
      "- Precision: 0.8286\n",
      "- Recall: 0.8212\n",
      "- Roc Auc Score: 0.8121\n",
      "===================================\n",
      "\n",
      "\n"
     ]
    },
    {
     "name": "stderr",
     "output_type": "stream",
     "text": [
      "c:\\Users\\pouru\\anaconda3\\envs\\bonus_allocation_system\\lib\\site-packages\\sklearn\\utils\\validation.py:1183: DataConversionWarning: A column-vector y was passed when a 1d array was expected. Please change the shape of y to (n_samples, ), for example using ravel().\n",
      "  y = column_or_1d(y, warn=True)\n"
     ]
    },
    {
     "name": "stdout",
     "output_type": "stream",
     "text": [
      "AdaBoost Classifier\n",
      "Model performance for Training set\n",
      "- Accuracy: 0.8957\n",
      "- F1 score: 0.9007\n",
      "- Precision: 0.9106\n",
      "- Recall: 0.8910\n",
      "- Roc Auc Score: 0.8960\n",
      "----------------------------------\n",
      "Model performance for Test set\n",
      "- Accuracy: 0.8928\n",
      "- F1 score: 0.8977\n",
      "- Precision: 0.9202\n",
      "- Recall: 0.8763\n",
      "- Roc Auc Score: 0.8941\n",
      "===================================\n",
      "\n",
      "\n",
      "[2024-08-19 10:15:49,164: INFO: 3163555312: Final accurary table]\n",
      "               Model Name  train_accuracy  test_accuracy  train_f1_score  test_f1_score  train_precision  test_precision  train_recall  test_recall  train_auc_roc  test_auc_roc  train_test_acc_diff\n",
      "            XGBClassifier        0.984267         0.9024        0.985165       0.907855         0.985908        0.920368      0.984422     0.895678       0.984257      0.902934             0.081867\n",
      "            Random Forest        0.999733         0.9016        0.999749       0.906321         1.000000        0.926791      0.999497     0.886736       0.999749      0.902781             0.098133\n",
      "   CatBoosting Classifier        0.948533         0.8976        0.951127       0.903030         0.958652        0.918336      0.943719     0.888227       0.948848      0.898345             0.050933\n",
      "      AdaBoost Classifier        0.895733         0.8928        0.900686       0.897710         0.910632        0.920188      0.890955     0.876304       0.896046      0.894111             0.002933\n",
      "        Gradient Boosting        0.917867         0.8920        0.922104       0.898267         0.928208        0.908537      0.916080     0.888227       0.917983      0.892300             0.025867\n",
      "   K-Neighbors Classifier        0.923467         0.8832        0.927470       0.890555         0.932893        0.895928      0.922111     0.885246       0.923555      0.883037             0.040267\n",
      "      Logistic Regression        0.890133         0.8824        0.895325       0.888721         0.905447        0.903077      0.885427     0.874814       0.890441      0.883003             0.007733\n",
      "            Decision Tree        0.999733         0.8704        0.999749       0.879285         1.000000        0.879285      0.999497     0.879285       0.999749      0.869694             0.129333\n",
      "Support Vector Classifier        0.815733         0.8128        0.824396       0.824850         0.833933        0.828571      0.815075     0.821162       0.815776      0.812136             0.002933\n",
      "[2024-08-19 10:15:49,171: INFO: 3163555312: From the table we get to known that XGBClassifier perform the best]\n"
     ]
    }
   ],
   "source": [
    "try:\n",
    "    config = ConfigurationManager()\n",
    "    model_trainer_config = config.get_model_trainer_config()\n",
    "    model_trainer_config = ModelTrainer(config=model_trainer_config)\n",
    "    model_trainer_config.train()\n",
    "except Exception as e:\n",
    "    raise e"
   ]
  },
  {
   "cell_type": "code",
   "execution_count": 141,
   "metadata": {},
   "outputs": [],
   "source": []
  },
  {
   "cell_type": "code",
   "execution_count": null,
   "metadata": {},
   "outputs": [],
   "source": []
  },
  {
   "cell_type": "code",
   "execution_count": null,
   "metadata": {},
   "outputs": [],
   "source": []
  },
  {
   "cell_type": "code",
   "execution_count": null,
   "metadata": {},
   "outputs": [],
   "source": []
  },
  {
   "cell_type": "code",
   "execution_count": null,
   "metadata": {},
   "outputs": [],
   "source": []
  },
  {
   "cell_type": "code",
   "execution_count": null,
   "metadata": {},
   "outputs": [],
   "source": []
  },
  {
   "cell_type": "code",
   "execution_count": null,
   "metadata": {},
   "outputs": [],
   "source": []
  },
  {
   "cell_type": "code",
   "execution_count": null,
   "metadata": {},
   "outputs": [],
   "source": []
  },
  {
   "cell_type": "code",
   "execution_count": null,
   "metadata": {},
   "outputs": [],
   "source": []
  },
  {
   "cell_type": "code",
   "execution_count": null,
   "metadata": {},
   "outputs": [],
   "source": []
  },
  {
   "cell_type": "code",
   "execution_count": null,
   "metadata": {},
   "outputs": [],
   "source": []
  },
  {
   "cell_type": "code",
   "execution_count": null,
   "metadata": {},
   "outputs": [],
   "source": []
  },
  {
   "cell_type": "code",
   "execution_count": null,
   "metadata": {},
   "outputs": [],
   "source": []
  },
  {
   "cell_type": "code",
   "execution_count": null,
   "metadata": {},
   "outputs": [],
   "source": []
  },
  {
   "cell_type": "code",
   "execution_count": null,
   "metadata": {},
   "outputs": [],
   "source": []
  },
  {
   "cell_type": "code",
   "execution_count": null,
   "metadata": {},
   "outputs": [],
   "source": []
  },
  {
   "cell_type": "code",
   "execution_count": null,
   "metadata": {},
   "outputs": [],
   "source": []
  }
 ],
 "metadata": {
  "kernelspec": {
   "display_name": "bonus_allocation_system",
   "language": "python",
   "name": "python3"
  },
  "language_info": {
   "codemirror_mode": {
    "name": "ipython",
    "version": 3
   },
   "file_extension": ".py",
   "mimetype": "text/x-python",
   "name": "python",
   "nbconvert_exporter": "python",
   "pygments_lexer": "ipython3",
   "version": "3.8.19"
  }
 },
 "nbformat": 4,
 "nbformat_minor": 2
}
