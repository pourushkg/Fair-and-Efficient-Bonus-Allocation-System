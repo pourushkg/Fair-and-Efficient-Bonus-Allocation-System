{
 "cells": [
  {
   "cell_type": "code",
   "execution_count": 121,
   "metadata": {},
   "outputs": [],
   "source": [
    "import pandas as pd \n",
    "import numpy as np \n",
    "from faker import Faker\n",
    "\n"
   ]
  },
  {
   "cell_type": "code",
   "execution_count": 149,
   "metadata": {},
   "outputs": [
    {
     "name": "stdout",
     "output_type": "stream",
     "text": [
      "       customer_id first_name last_name\n",
      "0             3186      Laura    Sparks\n",
      "1             3186      Laura    Sparks\n",
      "2             3186      Laura    Sparks\n",
      "3             3186      Laura    Sparks\n",
      "4             3186      Laura    Sparks\n",
      "...            ...        ...       ...\n",
      "40313         6242      Steve  Peterson\n",
      "40314         6242      Steve  Peterson\n",
      "40315         6242      Steve  Peterson\n",
      "40316         6242      Steve  Peterson\n",
      "40317         6242      Steve  Peterson\n",
      "\n",
      "[40318 rows x 3 columns]\n"
     ]
    }
   ],
   "source": [
    "import pandas as pd\n",
    "from faker import Faker\n",
    "\n",
    "def generate_fake_data(num_customers, max_repeats):\n",
    "  fake = Faker()\n",
    "  data = []\n",
    "\n",
    "  for _ in range(num_customers):\n",
    "    customer_id = fake.random_int(min=1000, max=9999)\n",
    "    first_name = fake.first_name()\n",
    "    last_name = fake.last_name()\n",
    "\n",
    "    for _ in range(fake.random_int(min=1, max=max_repeats)):\n",
    "      data.append([customer_id, first_name, last_name])\n",
    "\n",
    "  df = pd.DataFrame(data, columns=['customer_id', 'first_name', 'last_name'])\n",
    "  return df\n",
    "\n",
    "# Example usage:\n",
    "num_customers = 5000\n",
    "max_repeats = 15\n",
    "fake_data = generate_fake_data(num_customers, max_repeats)\n",
    "print(fake_data)\n"
   ]
  },
  {
   "cell_type": "code",
   "execution_count": 153,
   "metadata": {},
   "outputs": [],
   "source": [
    "import pandas as pd\n",
    "import numpy as np\n",
    "\n",
    "def shuffle_data(df):\n",
    "    # Create a unique identifier for each customer\n",
    "    df['customer_group'] = df.groupby(['customer_id', 'first_name', 'last_name']).ngroup()\n",
    "\n",
    "    # Shuffle the DataFrame\n",
    "    df = df.sample(frac=1)\n",
    "\n",
    "    # Drop the temporary customer_group column\n",
    "    df.drop(columns=['customer_group'], inplace=True)\n",
    "\n",
    "    return df\n"
   ]
  },
  {
   "cell_type": "code",
   "execution_count": 155,
   "metadata": {},
   "outputs": [],
   "source": [
    "fake_data_1 =shuffle_data(fake_data)"
   ]
  },
  {
   "cell_type": "code",
   "execution_count": 158,
   "metadata": {},
   "outputs": [
    {
     "data": {
      "text/html": [
       "<div>\n",
       "<style scoped>\n",
       "    .dataframe tbody tr th:only-of-type {\n",
       "        vertical-align: middle;\n",
       "    }\n",
       "\n",
       "    .dataframe tbody tr th {\n",
       "        vertical-align: top;\n",
       "    }\n",
       "\n",
       "    .dataframe thead th {\n",
       "        text-align: right;\n",
       "    }\n",
       "</style>\n",
       "<table border=\"1\" class=\"dataframe\">\n",
       "  <thead>\n",
       "    <tr style=\"text-align: right;\">\n",
       "      <th></th>\n",
       "      <th>customer_id</th>\n",
       "      <th>first_name</th>\n",
       "      <th>last_name</th>\n",
       "    </tr>\n",
       "  </thead>\n",
       "  <tbody>\n",
       "    <tr>\n",
       "      <th>32270</th>\n",
       "      <td>6492</td>\n",
       "      <td>Frank</td>\n",
       "      <td>Kirby</td>\n",
       "    </tr>\n",
       "    <tr>\n",
       "      <th>17209</th>\n",
       "      <td>6294</td>\n",
       "      <td>Angela</td>\n",
       "      <td>Bauer</td>\n",
       "    </tr>\n",
       "    <tr>\n",
       "      <th>30536</th>\n",
       "      <td>3879</td>\n",
       "      <td>David</td>\n",
       "      <td>Sullivan</td>\n",
       "    </tr>\n",
       "    <tr>\n",
       "      <th>33830</th>\n",
       "      <td>4109</td>\n",
       "      <td>James</td>\n",
       "      <td>Gardner</td>\n",
       "    </tr>\n",
       "    <tr>\n",
       "      <th>35376</th>\n",
       "      <td>3763</td>\n",
       "      <td>Keith</td>\n",
       "      <td>Edwards</td>\n",
       "    </tr>\n",
       "  </tbody>\n",
       "</table>\n",
       "</div>"
      ],
      "text/plain": [
       "       customer_id first_name last_name\n",
       "32270         6492      Frank     Kirby\n",
       "17209         6294     Angela     Bauer\n",
       "30536         3879      David  Sullivan\n",
       "33830         4109      James   Gardner\n",
       "35376         3763      Keith   Edwards"
      ]
     },
     "execution_count": 158,
     "metadata": {},
     "output_type": "execute_result"
    }
   ],
   "source": [
    "fake_data_1.head()"
   ]
  },
  {
   "cell_type": "code",
   "execution_count": 122,
   "metadata": {},
   "outputs": [
    {
     "name": "stdout",
     "output_type": "stream",
     "text": [
      "   customer_id first_name last_name    country  gender  age\n",
      "0       410133      Brian    Snyder  Argentina  Female   53\n",
      "1       634893      Kayla      Reed      India  Female   64\n",
      "2       683361       Mike  Williams  Argentina    Male   22\n",
      "3       615062    Heather     Smith     Brazil  Female   63\n",
      "4       195699    Kaitlyn   Kennedy     Brazil  Female   31\n"
     ]
    }
   ],
   "source": [
    "\n",
    "\n",
    "def generate_customer_data(num_rows):\n",
    "  fake = Faker()\n",
    "  countries = ['India', 'Argentina', 'Brazil', 'Mexico']\n",
    "  data = {\n",
    "      'customer_id': np.random.randint(100000, 999999, size=num_rows),\n",
    "      'first_name': [fake.first_name() for _ in range(num_rows)],\n",
    "      'last_name': [fake.last_name() for _ in range(num_rows)],\n",
    "      'country': np.random.choice(countries, size=num_rows),\n",
    "      'gender': np.random.choice(['Male', 'Female'], size=num_rows),\n",
    "      'age': np.random.randint(18, 71, size=num_rows)\n",
    "  }\n",
    "\n",
    "  df = pd.DataFrame(data)\n",
    "  return df\n",
    "num_rows = 1000\n",
    "df = generate_customer_data(num_rows)\n",
    "print(df.head())\n"
   ]
  },
  {
   "cell_type": "code",
   "execution_count": 123,
   "metadata": {},
   "outputs": [
    {
     "data": {
      "text/plain": [
       "(1000, 6)"
      ]
     },
     "execution_count": 123,
     "metadata": {},
     "output_type": "execute_result"
    }
   ],
   "source": [
    "df.shape"
   ]
  },
  {
   "cell_type": "code",
   "execution_count": 124,
   "metadata": {},
   "outputs": [],
   "source": [
    "df_2 = pd.read_csv(\"my_data_3.csv\")"
   ]
  },
  {
   "cell_type": "code",
   "execution_count": 125,
   "metadata": {},
   "outputs": [
    {
     "data": {
      "text/plain": [
       "(1000, 12)"
      ]
     },
     "execution_count": 125,
     "metadata": {},
     "output_type": "execute_result"
    }
   ],
   "source": [
    "df_2.shape"
   ]
  },
  {
   "cell_type": "code",
   "execution_count": 126,
   "metadata": {},
   "outputs": [],
   "source": [
    "df_final = pd.concat([df,df_2],axis=1)"
   ]
  },
  {
   "cell_type": "code",
   "execution_count": 127,
   "metadata": {},
   "outputs": [
    {
     "data": {
      "text/html": [
       "<div>\n",
       "<style scoped>\n",
       "    .dataframe tbody tr th:only-of-type {\n",
       "        vertical-align: middle;\n",
       "    }\n",
       "\n",
       "    .dataframe tbody tr th {\n",
       "        vertical-align: top;\n",
       "    }\n",
       "\n",
       "    .dataframe thead th {\n",
       "        text-align: right;\n",
       "    }\n",
       "</style>\n",
       "<table border=\"1\" class=\"dataframe\">\n",
       "  <thead>\n",
       "    <tr style=\"text-align: right;\">\n",
       "      <th></th>\n",
       "      <th>customer_id</th>\n",
       "      <th>first_name</th>\n",
       "      <th>last_name</th>\n",
       "      <th>country</th>\n",
       "      <th>gender</th>\n",
       "      <th>age</th>\n",
       "      <th>1. How long have you been using betting platform ?</th>\n",
       "      <th>2. Which games do you primarily play ?</th>\n",
       "      <th>3. How much time do you typically spend playing per day?</th>\n",
       "      <th>4. How often do you place bets?</th>\n",
       "      <th>5. On an average how much money do you bet?</th>\n",
       "      <th>6. How many bets have you made on betting app?</th>\n",
       "      <th>7. How often do you typically withdraw money from you betting account ?</th>\n",
       "      <th>8. How much did you receive in welcome or sing-up bonuses?</th>\n",
       "      <th>9. How much have you received in bonuses other than welcome or sign-up bonuses?</th>\n",
       "      <th>10. What is the highest amount you've won in a single bet or transaction on this platform?</th>\n",
       "      <th>11. How much  average profit have you made on this platform overall?</th>\n",
       "      <th>12. How much average loss have you made on this platform overall?</th>\n",
       "    </tr>\n",
       "  </thead>\n",
       "  <tbody>\n",
       "    <tr>\n",
       "      <th>0</th>\n",
       "      <td>410133</td>\n",
       "      <td>Brian</td>\n",
       "      <td>Snyder</td>\n",
       "      <td>Argentina</td>\n",
       "      <td>Female</td>\n",
       "      <td>53</td>\n",
       "      <td>More than a year</td>\n",
       "      <td>Cricket</td>\n",
       "      <td>1 - 2 hours</td>\n",
       "      <td>Weekly</td>\n",
       "      <td>1711</td>\n",
       "      <td>92</td>\n",
       "      <td>Monthly</td>\n",
       "      <td>570</td>\n",
       "      <td>1000</td>\n",
       "      <td>50516</td>\n",
       "      <td>18831</td>\n",
       "      <td>57928</td>\n",
       "    </tr>\n",
       "    <tr>\n",
       "      <th>1</th>\n",
       "      <td>634893</td>\n",
       "      <td>Kayla</td>\n",
       "      <td>Reed</td>\n",
       "      <td>India</td>\n",
       "      <td>Female</td>\n",
       "      <td>64</td>\n",
       "      <td>1-3 months</td>\n",
       "      <td>Football</td>\n",
       "      <td>1 - 2 hours</td>\n",
       "      <td>No</td>\n",
       "      <td>69748</td>\n",
       "      <td>121</td>\n",
       "      <td>Monthly</td>\n",
       "      <td>432</td>\n",
       "      <td>394</td>\n",
       "      <td>8459</td>\n",
       "      <td>15059</td>\n",
       "      <td>111729</td>\n",
       "    </tr>\n",
       "    <tr>\n",
       "      <th>2</th>\n",
       "      <td>683361</td>\n",
       "      <td>Mike</td>\n",
       "      <td>Williams</td>\n",
       "      <td>Argentina</td>\n",
       "      <td>Male</td>\n",
       "      <td>22</td>\n",
       "      <td>1-3 months</td>\n",
       "      <td>Cricket</td>\n",
       "      <td>2 - 4 hours</td>\n",
       "      <td>Occasionally</td>\n",
       "      <td>71061</td>\n",
       "      <td>7</td>\n",
       "      <td>Monthly</td>\n",
       "      <td>244</td>\n",
       "      <td>2461</td>\n",
       "      <td>21041</td>\n",
       "      <td>258</td>\n",
       "      <td>123540</td>\n",
       "    </tr>\n",
       "    <tr>\n",
       "      <th>3</th>\n",
       "      <td>615062</td>\n",
       "      <td>Heather</td>\n",
       "      <td>Smith</td>\n",
       "      <td>Brazil</td>\n",
       "      <td>Female</td>\n",
       "      <td>63</td>\n",
       "      <td>Less than a month</td>\n",
       "      <td>Baseball</td>\n",
       "      <td>Less than 1 hour</td>\n",
       "      <td>Daily</td>\n",
       "      <td>1514</td>\n",
       "      <td>75</td>\n",
       "      <td>Daily</td>\n",
       "      <td>523</td>\n",
       "      <td>210</td>\n",
       "      <td>870</td>\n",
       "      <td>19777</td>\n",
       "      <td>84345</td>\n",
       "    </tr>\n",
       "    <tr>\n",
       "      <th>4</th>\n",
       "      <td>195699</td>\n",
       "      <td>Kaitlyn</td>\n",
       "      <td>Kennedy</td>\n",
       "      <td>Brazil</td>\n",
       "      <td>Female</td>\n",
       "      <td>31</td>\n",
       "      <td>3-6 months</td>\n",
       "      <td>Basketball</td>\n",
       "      <td>Less than 1 hour</td>\n",
       "      <td>Daily</td>\n",
       "      <td>5059</td>\n",
       "      <td>104</td>\n",
       "      <td>Monthly</td>\n",
       "      <td>625</td>\n",
       "      <td>281</td>\n",
       "      <td>39358</td>\n",
       "      <td>39243</td>\n",
       "      <td>122167</td>\n",
       "    </tr>\n",
       "  </tbody>\n",
       "</table>\n",
       "</div>"
      ],
      "text/plain": [
       "   customer_id first_name last_name    country  gender  age  \\\n",
       "0       410133      Brian    Snyder  Argentina  Female   53   \n",
       "1       634893      Kayla      Reed      India  Female   64   \n",
       "2       683361       Mike  Williams  Argentina    Male   22   \n",
       "3       615062    Heather     Smith     Brazil  Female   63   \n",
       "4       195699    Kaitlyn   Kennedy     Brazil  Female   31   \n",
       "\n",
       "  1. How long have you been using betting platform ?  \\\n",
       "0                                   More than a year   \n",
       "1                                         1-3 months   \n",
       "2                                         1-3 months   \n",
       "3                                  Less than a month   \n",
       "4                                         3-6 months   \n",
       "\n",
       "  2. Which games do you primarily play ?  \\\n",
       "0                                Cricket   \n",
       "1                               Football   \n",
       "2                                Cricket   \n",
       "3                               Baseball   \n",
       "4                             Basketball   \n",
       "\n",
       "  3. How much time do you typically spend playing per day?  \\\n",
       "0                                        1 - 2 hours         \n",
       "1                                        1 - 2 hours         \n",
       "2                                        2 - 4 hours         \n",
       "3                                   Less than 1 hour         \n",
       "4                                   Less than 1 hour         \n",
       "\n",
       "  4. How often do you place bets?  \\\n",
       "0                          Weekly   \n",
       "1                              No   \n",
       "2                    Occasionally   \n",
       "3                           Daily   \n",
       "4                           Daily   \n",
       "\n",
       "   5. On an average how much money do you bet?  \\\n",
       "0                                         1711   \n",
       "1                                        69748   \n",
       "2                                        71061   \n",
       "3                                         1514   \n",
       "4                                         5059   \n",
       "\n",
       "   6. How many bets have you made on betting app?  \\\n",
       "0                                              92   \n",
       "1                                             121   \n",
       "2                                               7   \n",
       "3                                              75   \n",
       "4                                             104   \n",
       "\n",
       "  7. How often do you typically withdraw money from you betting account ?  \\\n",
       "0                                            Monthly                        \n",
       "1                                            Monthly                        \n",
       "2                                            Monthly                        \n",
       "3                                              Daily                        \n",
       "4                                            Monthly                        \n",
       "\n",
       "   8. How much did you receive in welcome or sing-up bonuses?  \\\n",
       "0                                                570            \n",
       "1                                                432            \n",
       "2                                                244            \n",
       "3                                                523            \n",
       "4                                                625            \n",
       "\n",
       "   9. How much have you received in bonuses other than welcome or sign-up bonuses?  \\\n",
       "0                                               1000                                 \n",
       "1                                                394                                 \n",
       "2                                               2461                                 \n",
       "3                                                210                                 \n",
       "4                                                281                                 \n",
       "\n",
       "   10. What is the highest amount you've won in a single bet or transaction on this platform?  \\\n",
       "0                                              50516                                            \n",
       "1                                               8459                                            \n",
       "2                                              21041                                            \n",
       "3                                                870                                            \n",
       "4                                              39358                                            \n",
       "\n",
       "   11. How much  average profit have you made on this platform overall?  \\\n",
       "0                                              18831                      \n",
       "1                                              15059                      \n",
       "2                                                258                      \n",
       "3                                              19777                      \n",
       "4                                              39243                      \n",
       "\n",
       "   12. How much average loss have you made on this platform overall?  \n",
       "0                                              57928                  \n",
       "1                                             111729                  \n",
       "2                                             123540                  \n",
       "3                                              84345                  \n",
       "4                                             122167                  "
      ]
     },
     "execution_count": 127,
     "metadata": {},
     "output_type": "execute_result"
    }
   ],
   "source": [
    "df_final.head()"
   ]
  },
  {
   "cell_type": "code",
   "execution_count": 128,
   "metadata": {},
   "outputs": [
    {
     "data": {
      "text/plain": [
       "(1000, 18)"
      ]
     },
     "execution_count": 128,
     "metadata": {},
     "output_type": "execute_result"
    }
   ],
   "source": [
    "df_final.shape"
   ]
  },
  {
   "cell_type": "code",
   "execution_count": 129,
   "metadata": {},
   "outputs": [],
   "source": [
    "df_final.columns = [\"Player_Id\",\"First_Name\",\"Last_Name\",\"Country\",\"Gender\",\"Age\",\"Betting_Platform_Tenure\",\"Game_Genre\",\"Daily_playtime\",\"Bet_frequency\",\"Average_bet\",\"Total_bet\",\"Withdraw_Frequency\",\"Welcome_bonus\",\"Other_bonus\",\"Max_win\",\"Avg_profit\",\"Max_loss\"]"
   ]
  },
  {
   "cell_type": "code",
   "execution_count": 130,
   "metadata": {},
   "outputs": [],
   "source": [
    "file_name =\"project_data.csv\""
   ]
  },
  {
   "cell_type": "code",
   "execution_count": 131,
   "metadata": {},
   "outputs": [],
   "source": [
    "def random_factor():\n",
    "    return np.random.uniform(0.6,0.9)"
   ]
  },
  {
   "cell_type": "code",
   "execution_count": 146,
   "metadata": {},
   "outputs": [],
   "source": [
    "df_final[\"Avg_profit\"] = np.where(df_final[\"Avg_profit\"]>df_final[\"Max_win\"],round(df_final[\"Max_win\"]*random_factor()),df_final[\"Avg_profit\"] )"
   ]
  },
  {
   "cell_type": "code",
   "execution_count": 145,
   "metadata": {},
   "outputs": [],
   "source": [
    "df_final[\"Max_loss\"] = np.where(df_final[\"Max_loss\"]>(df_final[\"Average_bet\"]*2+df_final[\"Max_win\"]+df_final[\"Avg_profit\"]),round((df_final[\"Average_bet\"]*2+df_final[\"Max_win\"]+df_final[\"Avg_profit\"])*random_factor()),df_final[\"Max_loss\"])"
   ]
  },
  {
   "cell_type": "code",
   "execution_count": 147,
   "metadata": {},
   "outputs": [],
   "source": [
    "df_final.to_csv(file_name,index=False)"
   ]
  },
  {
   "cell_type": "code",
   "execution_count": null,
   "metadata": {},
   "outputs": [],
   "source": []
  },
  {
   "cell_type": "code",
   "execution_count": null,
   "metadata": {},
   "outputs": [],
   "source": []
  },
  {
   "cell_type": "code",
   "execution_count": null,
   "metadata": {},
   "outputs": [],
   "source": []
  },
  {
   "cell_type": "code",
   "execution_count": null,
   "metadata": {},
   "outputs": [],
   "source": []
  },
  {
   "cell_type": "code",
   "execution_count": null,
   "metadata": {},
   "outputs": [],
   "source": []
  }
 ],
 "metadata": {
  "kernelspec": {
   "display_name": "bonus_allocation_system",
   "language": "python",
   "name": "python3"
  },
  "language_info": {
   "codemirror_mode": {
    "name": "ipython",
    "version": 3
   },
   "file_extension": ".py",
   "mimetype": "text/x-python",
   "name": "python",
   "nbconvert_exporter": "python",
   "pygments_lexer": "ipython3",
   "version": "3.8.19"
  }
 },
 "nbformat": 4,
 "nbformat_minor": 2
}
